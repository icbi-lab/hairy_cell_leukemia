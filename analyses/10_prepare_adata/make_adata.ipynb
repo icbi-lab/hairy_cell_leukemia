{
 "cells": [
  {
   "cell_type": "code",
   "execution_count": 1,
   "metadata": {},
   "outputs": [],
   "source": [
    "import scanpy as sc\n",
    "import pandas as pd\n",
    "import scipy.sparse \n",
    "import numpy as np\n",
    "from glob import glob\n",
    "from pathlib import Path\n",
    "import re\n",
    "from multiprocessing import Pool"
   ]
  },
  {
   "cell_type": "code",
   "execution_count": 2,
   "metadata": {},
   "outputs": [
    {
     "name": "stdout",
     "output_type": "stream",
     "text": [
      "P1, P2, P3 Short_Responder\n",
      "T0, T1, T2 Timepoints of sampling: TO = initial Diagnosis, T1 = 1. Relapse , T2 0 2. Relapse\n",
      "\n",
      "P4, P5, P6 Long_Responder, Only T0 = Initial Diagnosis "
     ]
    }
   ],
   "source": [
    "!cat \"../../data/01_raw_counts/Metadata_HCL_Pateints.txt\""
   ]
  },
  {
   "cell_type": "code",
   "execution_count": 3,
   "metadata": {},
   "outputs": [],
   "source": [
    "filenames = glob(\"../../data/01_raw_counts/*.csv\")"
   ]
  },
  {
   "cell_type": "code",
   "execution_count": 4,
   "metadata": {},
   "outputs": [
    {
     "data": {
      "text/plain": [
       "['../../data/01_raw_counts/HCL_P1_T2.csv',\n",
       " '../../data/01_raw_counts/HCL_P2_T2.csv',\n",
       " '../../data/01_raw_counts/HCL_P4_T0.csv',\n",
       " '../../data/01_raw_counts/HCL_P3_T0.csv',\n",
       " '../../data/01_raw_counts/HCL_P1_T0.csv',\n",
       " '../../data/01_raw_counts/HCL_P3_T2.csv',\n",
       " '../../data/01_raw_counts/HCL_P2_T0.csv',\n",
       " '../../data/01_raw_counts/HCL_P1_T1.csv',\n",
       " '../../data/01_raw_counts/HCL_P2_T1.csv',\n",
       " '../../data/01_raw_counts/HCL_P5_T0.csv',\n",
       " '../../data/01_raw_counts/HCL_P6_T0.csv',\n",
       " '../../data/01_raw_counts/HCL_P3_T1.csv']"
      ]
     },
     "execution_count": 4,
     "metadata": {},
     "output_type": "execute_result"
    }
   ],
   "source": [
    "filenames"
   ]
  },
  {
   "cell_type": "code",
   "execution_count": 5,
   "metadata": {},
   "outputs": [],
   "source": [
    "def load_counts(filename):\n",
    "    p = Path(filename)\n",
    "    sample = p.stem\n",
    "    ((patient, timepoint), ) = re.findall(\"(P\\d+)_(T\\d+)\\.csv\", p.name)\n",
    "    expr = pd.read_csv(p, skiprows=5, index_col=0)\n",
    "    gene_expr = expr.loc[(~expr.index.str.contains(\"\\(Ab\\)\") & ~expr.index.str.startswith(\"Lex_\")), :]\n",
    "    ab_expr = expr.loc[expr.index.str.contains(\"\\(Ab\\)\"), :]\n",
    "    obs = pd.DataFrame().assign(cell_id=expr.columns)\n",
    "    obs[\"patient\"] = patient\n",
    "    obs[\"timepoint\"] = timepoint\n",
    "    obs[\"sample\"] = sample\n",
    "    obs.set_index(\"cell_id\", inplace=True)\n",
    "    adata = sc.AnnData(X=scipy.sparse.csc_matrix(gene_expr).T, obs=obs)\n",
    "    adata.var_names = gene_expr.index\n",
    "  #   adata.obsm[\"surface_protein\"] = ab_expr.T\n",
    "    return adata"
   ]
  },
  {
   "cell_type": "code",
   "execution_count": 6,
   "metadata": {},
   "outputs": [],
   "source": [
    "with Pool(16) as p:\n",
    "    adatas = p.map(load_counts, filenames)"
   ]
  },
  {
   "cell_type": "code",
   "execution_count": 7,
   "metadata": {},
   "outputs": [],
   "source": [
    "sample_names = [Path(f).stem for f in filenames]"
   ]
  },
  {
   "cell_type": "code",
   "execution_count": 8,
   "metadata": {},
   "outputs": [],
   "source": [
    "for adata, sample in zip(adatas, sample_names):\n",
    "    adata.obs[\"sample\"] = sample"
   ]
  },
  {
   "cell_type": "code",
   "execution_count": 9,
   "metadata": {},
   "outputs": [
    {
     "name": "stderr",
     "output_type": "stream",
     "text": [
      "... storing 'patient' as categorical\n",
      "... storing 'timepoint' as categorical\n",
      "... storing 'sample' as categorical\n",
      "... storing 'patient' as categorical\n",
      "... storing 'timepoint' as categorical\n",
      "... storing 'sample' as categorical\n",
      "... storing 'patient' as categorical\n",
      "... storing 'timepoint' as categorical\n",
      "... storing 'sample' as categorical\n",
      "... storing 'patient' as categorical\n",
      "... storing 'timepoint' as categorical\n",
      "... storing 'sample' as categorical\n",
      "... storing 'patient' as categorical\n",
      "... storing 'timepoint' as categorical\n",
      "... storing 'sample' as categorical\n",
      "... storing 'patient' as categorical\n",
      "... storing 'timepoint' as categorical\n",
      "... storing 'sample' as categorical\n",
      "... storing 'patient' as categorical\n",
      "... storing 'timepoint' as categorical\n",
      "... storing 'sample' as categorical\n",
      "... storing 'patient' as categorical\n",
      "... storing 'timepoint' as categorical\n",
      "... storing 'sample' as categorical\n",
      "... storing 'patient' as categorical\n",
      "... storing 'timepoint' as categorical\n",
      "... storing 'sample' as categorical\n",
      "... storing 'patient' as categorical\n",
      "... storing 'timepoint' as categorical\n",
      "... storing 'sample' as categorical\n",
      "... storing 'patient' as categorical\n",
      "... storing 'timepoint' as categorical\n",
      "... storing 'sample' as categorical\n",
      "... storing 'patient' as categorical\n",
      "... storing 'timepoint' as categorical\n",
      "... storing 'sample' as categorical\n"
     ]
    }
   ],
   "source": [
    "for adata, sample in zip(adatas, sample_names):\n",
    "    adata.write_h5ad(f\"../../data/10_prepare_adata/{sample}.h5ad\")"
   ]
  }
 ],
 "metadata": {
  "kernelspec": {
   "display_name": "Python [conda env:.conda-scanpy_2020-12]",
   "language": "python",
   "name": "conda-env-.conda-scanpy_2020-12-py"
  },
  "language_info": {
   "codemirror_mode": {
    "name": "ipython",
    "version": 3
   },
   "file_extension": ".py",
   "mimetype": "text/x-python",
   "name": "python",
   "nbconvert_exporter": "python",
   "pygments_lexer": "ipython3",
   "version": "3.8.6"
  }
 },
 "nbformat": 4,
 "nbformat_minor": 4
}
